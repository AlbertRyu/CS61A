{
 "cells": [
  {
   "cell_type": "code",
   "execution_count": 1,
   "id": "7ad1a4be",
   "metadata": {},
   "outputs": [],
   "source": [
    "def make_withdraw(balance):\n",
    "    def withdraw(amount):\n",
    "        nonlocal balance\n",
    "        if amount > balance:\n",
    "            return 'Insufficient funds'\n",
    "        balance = balance - amount\n",
    "        return balance\n",
    "    return withdraw"
   ]
  },
  {
   "cell_type": "code",
   "execution_count": 95,
   "id": "7990f917",
   "metadata": {},
   "outputs": [],
   "source": [
    "withdraw = make_withdraw(1000)"
   ]
  },
  {
   "cell_type": "code",
   "execution_count": 98,
   "id": "51e640da",
   "metadata": {},
   "outputs": [
    {
     "data": {
      "text/plain": [
       "989"
      ]
     },
     "execution_count": 98,
     "metadata": {},
     "output_type": "execute_result"
    }
   ],
   "source": [
    "withdraw(1)"
   ]
  },
  {
   "cell_type": "markdown",
   "id": "17042c84",
   "metadata": {},
   "source": [
    "#### Note\n",
    "\n",
    "User-define function can access globle variable but cannot reassign it. If the function contains assignment, globle or nonlocal must to be use depending on cases, or error will be raised."
   ]
  },
  {
   "cell_type": "code",
   "execution_count": 101,
   "id": "cb001324",
   "metadata": {},
   "outputs": [],
   "source": [
    "balance = 50"
   ]
  },
  {
   "cell_type": "code",
   "execution_count": 84,
   "id": "7b4522f9",
   "metadata": {},
   "outputs": [],
   "source": [
    "# This is cool.\n",
    "def add15ifunder10():\n",
    "    if balance < 50:\n",
    "        return 'Balance add 15'\n",
    "    return 'Sufficient Balance'"
   ]
  },
  {
   "cell_type": "code",
   "execution_count": 85,
   "id": "736f02c7",
   "metadata": {},
   "outputs": [
    {
     "data": {
      "text/plain": [
       "'Sufficient Balance'"
      ]
     },
     "execution_count": 85,
     "metadata": {},
     "output_type": "execute_result"
    }
   ],
   "source": [
    "add15ifunder10()"
   ]
  },
  {
   "cell_type": "code",
   "execution_count": 86,
   "id": "dc862788",
   "metadata": {},
   "outputs": [],
   "source": [
    "# This is Badddd!\n",
    "def add15ifunder10():\n",
    "    if balance < 50:\n",
    "        balance = balance + 15 # This is a reassignment!\n",
    "        return 'Balance add 15'\n",
    "    return 'Sufficient Balance'"
   ]
  },
  {
   "cell_type": "code",
   "execution_count": 87,
   "id": "684583e1",
   "metadata": {},
   "outputs": [
    {
     "ename": "UnboundLocalError",
     "evalue": "local variable 'balance' referenced before assignment",
     "output_type": "error",
     "traceback": [
      "\u001b[0;31m---------------------------------------------------------------------------\u001b[0m",
      "\u001b[0;31mUnboundLocalError\u001b[0m                         Traceback (most recent call last)",
      "Cell \u001b[0;32mIn[87], line 1\u001b[0m\n\u001b[0;32m----> 1\u001b[0m \u001b[43madd15ifunder10\u001b[49m\u001b[43m(\u001b[49m\u001b[43m)\u001b[49m\n",
      "Cell \u001b[0;32mIn[86], line 3\u001b[0m, in \u001b[0;36madd15ifunder10\u001b[0;34m()\u001b[0m\n\u001b[1;32m      2\u001b[0m \u001b[38;5;28;01mdef\u001b[39;00m \u001b[38;5;21madd15ifunder10\u001b[39m():\n\u001b[0;32m----> 3\u001b[0m     \u001b[38;5;28;01mif\u001b[39;00m \u001b[43mbalance\u001b[49m \u001b[38;5;241m<\u001b[39m \u001b[38;5;241m50\u001b[39m:\n\u001b[1;32m      4\u001b[0m         balance \u001b[38;5;241m=\u001b[39m balance \u001b[38;5;241m+\u001b[39m \u001b[38;5;241m15\u001b[39m \u001b[38;5;66;03m# This is a reassignment!\u001b[39;00m\n\u001b[1;32m      5\u001b[0m         \u001b[38;5;28;01mreturn\u001b[39;00m \u001b[38;5;124m'\u001b[39m\u001b[38;5;124mBalance add 15\u001b[39m\u001b[38;5;124m'\u001b[39m\n",
      "\u001b[0;31mUnboundLocalError\u001b[0m: local variable 'balance' referenced before assignment"
     ]
    }
   ],
   "source": [
    "add15ifunder10()"
   ]
  },
  {
   "cell_type": "code",
   "execution_count": 107,
   "id": "68cf7f2e",
   "metadata": {},
   "outputs": [
    {
     "ename": "SyntaxError",
     "evalue": "name 'balance' is assigned to before global declaration (2199414801.py, line 4)",
     "output_type": "error",
     "traceback": [
      "\u001b[0;36m  Cell \u001b[0;32mIn[107], line 4\u001b[0;36m\u001b[0m\n\u001b[0;31m    global balance # Declare the function can change globle variabl.\u001b[0m\n\u001b[0m    ^\u001b[0m\n\u001b[0;31mSyntaxError\u001b[0m\u001b[0;31m:\u001b[0m name 'balance' is assigned to before global declaration\n"
     ]
    }
   ],
   "source": [
    "# This is also bad. You can not have it in the local frame if you want to use global.\n",
    "def add15ifunder10():\n",
    "    balance = 10\n",
    "    global balance # Declare the function can change globle variabl.\n",
    "    if balance < 50:\n",
    "        balance = balance + 15 # This is a reassignment!\n",
    "        return f'Balance add 15: {balance}'\n",
    "    return 'Sufficient Balance'"
   ]
  },
  {
   "cell_type": "code",
   "execution_count": 106,
   "id": "c80f90f5",
   "metadata": {},
   "outputs": [
    {
     "data": {
      "text/plain": [
       "'Balance add 15: 25'"
      ]
     },
     "execution_count": 106,
     "metadata": {},
     "output_type": "execute_result"
    }
   ],
   "source": [
    "add15ifunder10()"
   ]
  },
  {
   "cell_type": "code",
   "execution_count": 108,
   "id": "ee167982",
   "metadata": {},
   "outputs": [],
   "source": [
    "# This will work again. \n",
    "def add15ifunder10():\n",
    "    global balance # Declare the function can change globle variabl.\n",
    "    if balance < 50:\n",
    "        balance = balance + 15 # This is a reassignment!\n",
    "        return f'Balance add 15: {balance}'\n",
    "    return 'Sufficient Balance'"
   ]
  },
  {
   "cell_type": "code",
   "execution_count": 113,
   "id": "b883455c",
   "metadata": {},
   "outputs": [],
   "source": [
    "#Also, you can use a list to work around.\n",
    "balance = [20]\n",
    "\n",
    "def add15ifunder10():\n",
    "    if balance[0] < 50:\n",
    "        balance[0] = balance[0] + 15 # This is a reassignment!\n",
    "        return f'Balance add 15: {balance}'\n",
    "    return 'Sufficient Balance'"
   ]
  },
  {
   "cell_type": "code",
   "execution_count": 114,
   "id": "506cf18b",
   "metadata": {},
   "outputs": [
    {
     "data": {
      "text/plain": [
       "'Balance add 15: [35]'"
      ]
     },
     "execution_count": 114,
     "metadata": {},
     "output_type": "execute_result"
    }
   ],
   "source": [
    "add15ifunder10()"
   ]
  },
  {
   "cell_type": "markdown",
   "id": "d2d369db",
   "metadata": {},
   "source": [
    "#### Referential Transparancy will be lost when mutation within function body."
   ]
  },
  {
   "cell_type": "code",
   "execution_count": 147,
   "id": "56885587",
   "metadata": {},
   "outputs": [],
   "source": [
    "def f(x):\n",
    "    x = 4\n",
    "    def g(y):\n",
    "        def h(z):\n",
    "            nonlocal x\n",
    "            x = x + 1\n",
    "            return x + y + z\n",
    "        return h\n",
    "    return g"
   ]
  },
  {
   "cell_type": "code",
   "execution_count": 148,
   "id": "d8ff8616",
   "metadata": {},
   "outputs": [],
   "source": [
    "a = f(1)"
   ]
  },
  {
   "cell_type": "code",
   "execution_count": 149,
   "id": "ee52ca0c",
   "metadata": {},
   "outputs": [],
   "source": [
    "b = a(2)"
   ]
  },
  {
   "cell_type": "code",
   "execution_count": 145,
   "id": "09a36ec5",
   "metadata": {},
   "outputs": [
    {
     "data": {
      "text/plain": [
       "22"
      ]
     },
     "execution_count": 145,
     "metadata": {},
     "output_type": "execute_result"
    }
   ],
   "source": [
    "b(3)+b(4) #b(3) = 10 and b(4)=12"
   ]
  },
  {
   "cell_type": "code",
   "execution_count": 150,
   "id": "b970a4f0",
   "metadata": {},
   "outputs": [
    {
     "data": {
      "text/plain": [
       "21"
      ]
     },
     "execution_count": 150,
     "metadata": {},
     "output_type": "execute_result"
    }
   ],
   "source": [
    "10 + b(4) # Transparancy is lost! "
   ]
  },
  {
   "cell_type": "markdown",
   "id": "4c7d209b",
   "metadata": {},
   "source": [
    "### Very very good practice!"
   ]
  },
  {
   "cell_type": "code",
   "execution_count": 154,
   "id": "56d9bb5b",
   "metadata": {},
   "outputs": [],
   "source": [
    "def Oski(bear):\n",
    "    '''Very good environment practice'''\n",
    "    def cal(berk):\n",
    "        nonlocal bear\n",
    "        if bear(berk) == 0:\n",
    "            return [berk+1,berk-1]\n",
    "        bear = lambda ley: berk-ley\n",
    "        return [berk,cal(berk)]\n",
    "    return cal(2)"
   ]
  },
  {
   "cell_type": "code",
   "execution_count": 153,
   "id": "aea002c8",
   "metadata": {},
   "outputs": [
    {
     "data": {
      "text/plain": [
       "[2, [3, 1]]"
      ]
     },
     "execution_count": 153,
     "metadata": {},
     "output_type": "execute_result"
    }
   ],
   "source": [
    "Oski(abs)"
   ]
  },
  {
   "cell_type": "code",
   "execution_count": 155,
   "id": "a43686c1",
   "metadata": {},
   "outputs": [
    {
     "name": "stdout",
     "output_type": "stream",
     "text": [
      "Help on function Oski in module __main__:\n",
      "\n",
      "Oski(bear)\n",
      "    Very good environment practice\n",
      "\n"
     ]
    }
   ],
   "source": [
    "help(Oski)"
   ]
  },
  {
   "cell_type": "code",
   "execution_count": 156,
   "id": "6713ec5d",
   "metadata": {},
   "outputs": [],
   "source": [
    "from operator import ge"
   ]
  },
  {
   "cell_type": "code",
   "execution_count": 157,
   "id": "79317773",
   "metadata": {},
   "outputs": [
    {
     "data": {
      "text/plain": [
       "True"
      ]
     },
     "execution_count": 157,
     "metadata": {},
     "output_type": "execute_result"
    }
   ],
   "source": [
    "ge(5,5)"
   ]
  },
  {
   "cell_type": "code",
   "execution_count": 167,
   "id": "2bb19958",
   "metadata": {},
   "outputs": [],
   "source": [
    "l = [0]"
   ]
  },
  {
   "cell_type": "code",
   "execution_count": 169,
   "id": "db9135c4",
   "metadata": {},
   "outputs": [],
   "source": [
    "def left():\n",
    "    return False"
   ]
  },
  {
   "cell_type": "code",
   "execution_count": 170,
   "id": "4c18d2b9",
   "metadata": {},
   "outputs": [],
   "source": [
    "def right():\n",
    "    l[0] = 10\n",
    "    return True"
   ]
  },
  {
   "cell_type": "code",
   "execution_count": 171,
   "id": "52aee16e",
   "metadata": {},
   "outputs": [],
   "source": [
    "if left() and right():\n",
    "    pass"
   ]
  },
  {
   "cell_type": "code",
   "execution_count": 172,
   "id": "bac0ce29",
   "metadata": {},
   "outputs": [
    {
     "data": {
      "text/plain": [
       "[0]"
      ]
     },
     "execution_count": 172,
     "metadata": {},
     "output_type": "execute_result"
    }
   ],
   "source": [
    "l"
   ]
  },
  {
   "cell_type": "code",
   "execution_count": 229,
   "id": "2211b332",
   "metadata": {},
   "outputs": [],
   "source": [
    "def fib(n):\n",
    "    '''return the nth fibonachii nummer.\n",
    "    \n",
    "    >>> fib(8)\n",
    "    13\n",
    "    >>> fib(0)\n",
    "    0\n",
    "    \n",
    "    '''\n",
    "    \n",
    "    if n == 0:\n",
    "        return 0\n",
    "    elif n == 1:\n",
    "        return 1\n",
    "    else:\n",
    "        pre,cur = 0,1\n",
    "        while n-2>0:\n",
    "            pre,cur = cur,pre+cur\n",
    "            n -= 1\n",
    "        return cur"
   ]
  },
  {
   "cell_type": "code",
   "execution_count": 230,
   "id": "88fa3faa",
   "metadata": {},
   "outputs": [
    {
     "data": {
      "text/plain": [
       "13"
      ]
     },
     "execution_count": 230,
     "metadata": {},
     "output_type": "execute_result"
    }
   ],
   "source": [
    "fib(8)"
   ]
  },
  {
   "cell_type": "code",
   "execution_count": 231,
   "id": "bc41f860",
   "metadata": {},
   "outputs": [],
   "source": [
    "from doctest import testmod"
   ]
  },
  {
   "cell_type": "code",
   "execution_count": 232,
   "id": "e4bad801",
   "metadata": {},
   "outputs": [
    {
     "data": {
      "text/plain": [
       "TestResults(failed=0, attempted=2)"
      ]
     },
     "execution_count": 232,
     "metadata": {},
     "output_type": "execute_result"
    }
   ],
   "source": [
    "testmod()"
   ]
  },
  {
   "cell_type": "code",
   "execution_count": null,
   "id": "cc03523c",
   "metadata": {},
   "outputs": [],
   "source": []
  },
  {
   "cell_type": "code",
   "execution_count": null,
   "id": "c938c88e",
   "metadata": {},
   "outputs": [],
   "source": []
  }
 ],
 "metadata": {
  "kernelspec": {
   "display_name": "Python 3 (ipykernel)",
   "language": "python",
   "name": "python3"
  },
  "language_info": {
   "codemirror_mode": {
    "name": "ipython",
    "version": 3
   },
   "file_extension": ".py",
   "mimetype": "text/x-python",
   "name": "python",
   "nbconvert_exporter": "python",
   "pygments_lexer": "ipython3",
   "version": "3.9.17"
  }
 },
 "nbformat": 4,
 "nbformat_minor": 5
}
