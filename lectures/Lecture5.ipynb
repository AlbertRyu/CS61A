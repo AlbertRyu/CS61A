{
 "cells": [
  {
   "cell_type": "code",
   "execution_count": 1,
   "id": "80df29f2",
   "metadata": {},
   "outputs": [],
   "source": [
    "def improve(update,close,guess=1):\n",
    "    while not close(guess):\n",
    "        guess = update(guess)\n",
    "    return guess"
   ]
  },
  {
   "cell_type": "code",
   "execution_count": 16,
   "id": "47f059f3",
   "metadata": {},
   "outputs": [],
   "source": [
    "def average(x,y):\n",
    "    return (x+y)/2\n",
    "\n",
    "def approx_equal(x,y,tolerance=1e-5):\n",
    "    difference = abs(x-y)\n",
    "    return difference < tolerance"
   ]
  },
  {
   "cell_type": "markdown",
   "id": "cdf04c0f",
   "metadata": {},
   "source": [
    "### Update to find Golden Ratio"
   ]
  },
  {
   "cell_type": "code",
   "execution_count": 74,
   "id": "ba9c96b2",
   "metadata": {},
   "outputs": [],
   "source": [
    "def golden_ratio():\n",
    "    def golden_update(phi):\n",
    "        return average(phi,1+1/phi)\n",
    "    def golden_close(phi):\n",
    "        return approx_equal(phi,1+1/phi)\n",
    "    return improve(golden_update,golden_close)"
   ]
  },
  {
   "cell_type": "code",
   "execution_count": 75,
   "id": "c7f2ffce",
   "metadata": {},
   "outputs": [
    {
     "data": {
      "text/plain": [
       "1.6180311591702674"
      ]
     },
     "execution_count": 75,
     "metadata": {},
     "output_type": "execute_result"
    }
   ],
   "source": [
    "golden_ratio()"
   ]
  },
  {
   "cell_type": "markdown",
   "id": "1fcfdc4b",
   "metadata": {},
   "source": [
    "### Update to find square root"
   ]
  },
  {
   "cell_type": "code",
   "execution_count": 19,
   "id": "3134ed26",
   "metadata": {},
   "outputs": [],
   "source": [
    "def sqrt(a):\n",
    "    def sqrt_update(x):\n",
    "        return average(x,a/x)\n",
    "    def sqrt_close(x):\n",
    "        return approx_equal(x,a/x)\n",
    "    return improve(sqrt_update,sqrt_close,guess=1)"
   ]
  },
  {
   "cell_type": "code",
   "execution_count": 20,
   "id": "ac6c5723",
   "metadata": {},
   "outputs": [
    {
     "data": {
      "text/plain": [
       "1.4142156862745097"
      ]
     },
     "execution_count": 20,
     "metadata": {},
     "output_type": "execute_result"
    }
   ],
   "source": [
    "sqrt(2)"
   ]
  },
  {
   "cell_type": "markdown",
   "id": "16e9ba65",
   "metadata": {},
   "source": [
    "### Newtons Method as Practice"
   ]
  },
  {
   "cell_type": "code",
   "execution_count": 71,
   "id": "4f6d9bdf",
   "metadata": {},
   "outputs": [],
   "source": [
    "def newton(f,df):\n",
    "    trial = 1\n",
    "    def newton_update(x):\n",
    "        nonlocal trial\n",
    "        print(f'No:{trial}  Curr:{x:.4f}')\n",
    "        trial += 1\n",
    "        return x - f(x)/df(x)\n",
    "    def newton_close(x):\n",
    "        return approx_equal(f(x),0)\n",
    "    return float(f'{improve(newton_update,newton_close):.2f}')"
   ]
  },
  {
   "cell_type": "code",
   "execution_count": 72,
   "id": "9d39e8b9",
   "metadata": {
    "scrolled": true
   },
   "outputs": [
    {
     "name": "stdout",
     "output_type": "stream",
     "text": [
      "No:1  Curr:1.0000\n",
      "No:2  Curr:3.6667\n",
      "No:3  Curr:2.6676\n",
      "No:4  Curr:2.2000\n",
      "No:5  Curr:2.0865\n",
      "No:6  Curr:2.0801\n"
     ]
    },
    {
     "data": {
      "text/plain": [
       "2.08"
      ]
     },
     "execution_count": 72,
     "metadata": {},
     "output_type": "execute_result"
    }
   ],
   "source": [
    "newton(lambda x:x**3-9,lambda x:3*x**2)"
   ]
  },
  {
   "cell_type": "code",
   "execution_count": 73,
   "id": "daffa03b",
   "metadata": {},
   "outputs": [],
   "source": [
    "def square_root_newton(value,power):\n",
    "    return newton(lambda x:x**power-value,lambda x:power*x**(power-1))"
   ]
  },
  {
   "cell_type": "code",
   "execution_count": 62,
   "id": "26f3f39f",
   "metadata": {},
   "outputs": [
    {
     "name": "stdout",
     "output_type": "stream",
     "text": [
      "No:1  Curr:1.0000\n",
      "No:2  Curr:41.0000\n",
      "No:3  Curr:21.4878\n",
      "No:4  Curr:12.6287\n",
      "No:5  Curr:9.5213\n",
      "No:6  Curr:9.0143\n",
      "No:7  Curr:9.0000\n"
     ]
    },
    {
     "data": {
      "text/plain": [
       "9.000000000007093"
      ]
     },
     "execution_count": 62,
     "metadata": {},
     "output_type": "execute_result"
    }
   ],
   "source": [
    "square_root_newton(81,2)"
   ]
  },
  {
   "cell_type": "code",
   "execution_count": null,
   "id": "75b8b278",
   "metadata": {},
   "outputs": [],
   "source": []
  }
 ],
 "metadata": {
  "kernelspec": {
   "display_name": "Python 3 (ipykernel)",
   "language": "python",
   "name": "python3"
  },
  "language_info": {
   "codemirror_mode": {
    "name": "ipython",
    "version": 3
   },
   "file_extension": ".py",
   "mimetype": "text/x-python",
   "name": "python",
   "nbconvert_exporter": "python",
   "pygments_lexer": "ipython3",
   "version": "3.9.17"
  }
 },
 "nbformat": 4,
 "nbformat_minor": 5
}
