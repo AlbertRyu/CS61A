{
 "cells": [
  {
   "cell_type": "code",
   "execution_count": 1,
   "id": "e9bceced",
   "metadata": {},
   "outputs": [],
   "source": [
    "# Tree\n",
    "\n",
    "#Box-and-Pointer Notation\n",
    "odds = [3,5,7,9,11]\n",
    "\n",
    "a = sum(odds,1)\n",
    "# a = 36\n",
    "\n",
    "b = sum([odds],[13])\n",
    "# b = [3,5,7,9,11,13]\n",
    "\n",
    "c = max(range(-5,5)) \n",
    "#c = 4\n",
    " \n",
    "d = max(range(-5,5),key=lambda x: x**2)\n",
    "#d = -5\n",
    "\n",
    "e = all([1,1,1,1])\n",
    "# e = True\n",
    "\n",
    "f = all([1,1,1,0])\n",
    "# f = False\n",
    "\n",
    "def tree(label,branches=[]):\n",
    "    for branch in branches:\n",
    "        assert is_tree(branch),'branches must be trees'\n",
    "    return [label]+list(branches)\n",
    "\n",
    "def label(tree):\n",
    "    return tree[0]\n",
    "\n",
    "def branches(tree):\n",
    "    return tree[1:]\n",
    "\n",
    "def is_tree(tree):\n",
    "    if type(tree) != list or len(tree) < 1:\n",
    "        return False\n",
    "    for branch in branches(tree):\n",
    "        if not is_tree(branch):\n",
    "            return False\n",
    "    return True\n",
    "\n",
    "def is_Leaf(tree):\n",
    "    return not branches(tree)\n",
    "\n",
    "def fib_tree(n):\n",
    "    if n <= 1:\n",
    "        return tree(n)\n",
    "    else:\n",
    "        left, right = fib_tree(n-2),fib_tree(n-1)\n",
    "        return tree(label(left)+label(right),[left,right])\n",
    "\n",
    "def count_leaves(tree):\n",
    "    if is_Leaf(tree):\n",
    "       return 1\n",
    "    else:\n",
    "        branch_count = [count_leaves(b) for b in branches(tree)]\n",
    "        return sum(branch_count)\n",
    "    \n",
    "def print_tree(tree,indention=0):\n",
    "    print(' '*indention + str(label(tree)))\n",
    "    for b in branches(tree):\n",
    "        print_tree(b,indention+1)\n",
    "\n",
    "\n",
    "\n"
   ]
  },
  {
   "cell_type": "code",
   "execution_count": 2,
   "id": "9f90af8c",
   "metadata": {},
   "outputs": [],
   "source": [
    "a = [3,4,5]"
   ]
  },
  {
   "cell_type": "code",
   "execution_count": 3,
   "id": "ff60a042",
   "metadata": {},
   "outputs": [],
   "source": [
    "b = [7,8,9]"
   ]
  },
  {
   "cell_type": "code",
   "execution_count": 4,
   "id": "e41a9eca",
   "metadata": {},
   "outputs": [
    {
     "data": {
      "text/plain": [
       "<zip at 0x7f95c9a86640>"
      ]
     },
     "execution_count": 4,
     "metadata": {},
     "output_type": "execute_result"
    }
   ],
   "source": [
    "zip(a,b)"
   ]
  },
  {
   "cell_type": "code",
   "execution_count": 7,
   "id": "6b88454c",
   "metadata": {},
   "outputs": [
    {
     "name": "stdout",
     "output_type": "stream",
     "text": [
      "3 7\n",
      "4 8\n",
      "5 9\n"
     ]
    }
   ],
   "source": [
    "for x,y in zip(a,b):\n",
    "    print(x,y)"
   ]
  },
  {
   "cell_type": "code",
   "execution_count": 8,
   "id": "fa2da635",
   "metadata": {},
   "outputs": [],
   "source": [
    "def tree(label, branches=[]):\n",
    "    \"\"\"Construct a tree with the given label value and a list of branches.\"\"\"\n",
    "    if change_abstraction.changed:\n",
    "        for branch in branches:\n",
    "            assert is_tree(branch), 'branches must be trees'\n",
    "        return {'label': label, 'branches': list(branches)}\n",
    "    else:\n",
    "        for branch in branches:\n",
    "            assert is_tree(branch), 'branches must be trees'\n",
    "        return [label] + list(branches)\n",
    "\n",
    "def label(tree):\n",
    "    \"\"\"Return the label value of a tree.\"\"\"\n",
    "    if change_abstraction.changed:\n",
    "        return tree['label']\n",
    "    else:\n",
    "        return tree[0]\n",
    "\n",
    "def branches(tree):\n",
    "    \"\"\"Return the list of branches of the given tree.\"\"\"\n",
    "    if change_abstraction.changed:\n",
    "        return tree['branches']\n",
    "    else:\n",
    "        return tree[1:]\n",
    "\n",
    "def is_tree(tree):\n",
    "    \"\"\"Returns True if the given tree is a tree, and False otherwise.\"\"\"\n",
    "    if change_abstraction.changed:\n",
    "        if type(tree) != dict or len(tree) != 2:\n",
    "            return False\n",
    "        for branch in branches(tree):\n",
    "            if not is_tree(branch):\n",
    "                return False\n",
    "        return True\n",
    "    else:\n",
    "        if type(tree) != list or len(tree) < 1:\n",
    "            return False\n",
    "        for branch in branches(tree):\n",
    "            if not is_tree(branch):\n",
    "                return False\n",
    "        return True\n",
    "\n",
    "def is_leaf(tree):\n",
    "    \"\"\"Returns True if the given tree's list of branches is empty, and False\n",
    "    otherwise.\n",
    "    \"\"\"\n",
    "    return not branches(tree)\n",
    "\n",
    "def change_abstraction(change):\n",
    "    change_abstraction.changed = change\n",
    "\n",
    "change_abstraction.changed = False\n",
    "\n",
    "\n",
    "def print_tree(t, indent=0):\n",
    "    \"\"\"Print a representation of this tree in which each node is\n",
    "    indented by two spaces times its depth from the root.\n",
    "\n",
    "    >>> print_tree(tree(1))\n",
    "    1\n",
    "    >>> print_tree(tree(1, [tree(2)]))\n",
    "    1\n",
    "      2\n",
    "    >>> numbers = tree(1, [tree(2), tree(3, [tree(4), tree(5)]), tree(6, [tree(7)])])\n",
    "    >>> print_tree(numbers)\n",
    "    1\n",
    "      2\n",
    "      3\n",
    "        4\n",
    "        5\n",
    "      6\n",
    "        7\n",
    "    \"\"\"\n",
    "    print('  ' * indent + str(label(t)))\n",
    "    for b in branches(t):\n",
    "        print_tree(b, indent + 1)\n",
    "\n",
    "def copy_tree(t):\n",
    "    \"\"\"Returns a copy of t. Only for testing purposes.\n",
    "\n",
    "    >>> t = tree(5)\n",
    "    >>> copy = copy_tree(t)\n",
    "    >>> t = tree(6)\n",
    "    >>> print_tree(copy)\n",
    "    5\n",
    "    \"\"\"\n",
    "    return tree(label(t), [copy_tree(b) for b in branches(t)])\n",
    "\n"
   ]
  },
  {
   "cell_type": "code",
   "execution_count": 9,
   "id": "41976823",
   "metadata": {},
   "outputs": [],
   "source": [
    "t1 = tree(1)"
   ]
  },
  {
   "cell_type": "code",
   "execution_count": 10,
   "id": "1d49743d",
   "metadata": {},
   "outputs": [
    {
     "data": {
      "text/plain": [
       "[1]"
      ]
     },
     "execution_count": 10,
     "metadata": {},
     "output_type": "execute_result"
    }
   ],
   "source": [
    "t1"
   ]
  },
  {
   "cell_type": "code",
   "execution_count": 11,
   "id": "3fd17727",
   "metadata": {},
   "outputs": [
    {
     "data": {
      "text/plain": [
       "True"
      ]
     },
     "execution_count": 11,
     "metadata": {},
     "output_type": "execute_result"
    }
   ],
   "source": [
    "is_tree(t1)"
   ]
  },
  {
   "cell_type": "code",
   "execution_count": 63,
   "id": "8d4889ab",
   "metadata": {},
   "outputs": [],
   "source": [
    "t2 = tree(2,[tree(3,[tree(5)]),tree(4),tree(5)])"
   ]
  },
  {
   "cell_type": "code",
   "execution_count": 64,
   "id": "f0d707a7",
   "metadata": {},
   "outputs": [
    {
     "name": "stdout",
     "output_type": "stream",
     "text": [
      "2\n",
      "  3\n",
      "    5\n",
      "  4\n",
      "  5\n"
     ]
    }
   ],
   "source": [
    "print_tree(t2)"
   ]
  },
  {
   "cell_type": "code",
   "execution_count": 19,
   "id": "caff75fd",
   "metadata": {},
   "outputs": [],
   "source": [
    "import itertools"
   ]
  },
  {
   "cell_type": "code",
   "execution_count": 65,
   "id": "ba3b2e40",
   "metadata": {},
   "outputs": [
    {
     "name": "stdout",
     "output_type": "stream",
     "text": [
      "1 2\n",
      "[0] [3, [5]]\n",
      "[0] [4]\n",
      "[0] [5]\n"
     ]
    }
   ],
   "source": [
    "for x,y in itertools.zip_longest(t1,t2,fillvalue=[0]):\n",
    "    print(x,y)"
   ]
  },
  {
   "cell_type": "code",
   "execution_count": 51,
   "id": "2648723a",
   "metadata": {},
   "outputs": [
    {
     "name": "stdout",
     "output_type": "stream",
     "text": [
      "True\n"
     ]
    }
   ],
   "source": [
    "if branches(t2):\n",
    "    print('True')\n",
    "else:\n",
    "    print('False')"
   ]
  },
  {
   "cell_type": "code",
   "execution_count": 85,
   "id": "f9c1a451",
   "metadata": {},
   "outputs": [],
   "source": [
    "def add_trees(t1,t2):\n",
    "    if not (branches(t1) or branches(t2)):\n",
    "        return tree(sum([label(t1),label(t2)]))\n",
    "    else:\n",
    "        bs = [add_trees(t1_bs,t2_bs) for t1_bs,t2_bs in itertools.zip_longest(branches(t1),branches(t2),fillvalue=[0])]\n",
    "        return tree(sum([label(t1),label(t2)]),bs)\n",
    "    #return tree(label(t1)+lebel(t2),[])"
   ]
  },
  {
   "cell_type": "code",
   "execution_count": 86,
   "id": "a2917eda",
   "metadata": {},
   "outputs": [
    {
     "data": {
      "text/plain": [
       "[3, [3, [5]], [4], [5]]"
      ]
     },
     "execution_count": 86,
     "metadata": {},
     "output_type": "execute_result"
    }
   ],
   "source": [
    "add_trees(t1,t2)"
   ]
  },
  {
   "cell_type": "code",
   "execution_count": 82,
   "id": "36000247",
   "metadata": {},
   "outputs": [
    {
     "data": {
      "text/plain": [
       "[[0, [0]], [0], [0]]"
      ]
     },
     "execution_count": 82,
     "metadata": {},
     "output_type": "execute_result"
    }
   ],
   "source": [
    "[add_trees(t1_bs,t2_bs) for t1_bs,t2_bs in itertools.zip_longest(branches(t1),branches(t2),fillvalue=[0])]"
   ]
  },
  {
   "cell_type": "code",
   "execution_count": 73,
   "id": "693c4633",
   "metadata": {
    "scrolled": true
   },
   "outputs": [
    {
     "data": {
      "text/plain": [
       "[None, [0], [0]]"
      ]
     },
     "execution_count": 73,
     "metadata": {},
     "output_type": "execute_result"
    }
   ],
   "source": [
    "[add_trees(t1_bs,t2_bs) for t1_bs,t2_bs in itertools.zip_longest(branches(t1),branches(t2),fillvalue=[0])]"
   ]
  },
  {
   "cell_type": "code",
   "execution_count": 69,
   "id": "c00ad05e",
   "metadata": {},
   "outputs": [
    {
     "name": "stdout",
     "output_type": "stream",
     "text": [
      "1\n"
     ]
    }
   ],
   "source": [
    "print_tree(t1)"
   ]
  },
  {
   "cell_type": "code",
   "execution_count": 70,
   "id": "78d2677e",
   "metadata": {},
   "outputs": [
    {
     "name": "stdout",
     "output_type": "stream",
     "text": [
      "2\n",
      "  3\n",
      "    5\n",
      "  4\n",
      "  5\n"
     ]
    }
   ],
   "source": [
    "print_tree(t2)"
   ]
  },
  {
   "cell_type": "code",
   "execution_count": 89,
   "id": "f87f947b",
   "metadata": {},
   "outputs": [],
   "source": [
    "numbers = tree(1,\n",
    "           [tree(2,\n",
    "                [tree(3),\n",
    "                 tree(4)]),\n",
    "             tree(5,\n",
    "                  [tree(6,\n",
    "                        [tree(7)]),\n",
    "                   tree(8)])])"
   ]
  },
  {
   "cell_type": "code",
   "execution_count": 91,
   "id": "0e195536",
   "metadata": {},
   "outputs": [
    {
     "name": "stdout",
     "output_type": "stream",
     "text": [
      "1\n",
      "  2\n",
      "    3\n",
      "    4\n",
      "  5\n",
      "    6\n",
      "      7\n",
      "    8\n"
     ]
    }
   ],
   "source": [
    "print_tree(numbers)"
   ]
  },
  {
   "cell_type": "code",
   "execution_count": 93,
   "id": "5b5cba7a",
   "metadata": {},
   "outputs": [
    {
     "name": "stdout",
     "output_type": "stream",
     "text": [
      "2\n",
      "  4\n",
      "    6\n",
      "    8\n",
      "  10\n",
      "    12\n",
      "      14\n",
      "    16\n"
     ]
    }
   ],
   "source": [
    "print_tree(add_trees(numbers,numbers))"
   ]
  },
  {
   "cell_type": "code",
   "execution_count": 94,
   "id": "9cf7d7fa",
   "metadata": {},
   "outputs": [
    {
     "name": "stdout",
     "output_type": "stream",
     "text": [
      "5\n",
      "  4\n",
      "  5\n"
     ]
    }
   ],
   "source": [
    "print_tree(add_trees(tree(2), tree(3, [tree(4), tree(5)])))"
   ]
  },
  {
   "cell_type": "code",
   "execution_count": null,
   "id": "3531413b",
   "metadata": {},
   "outputs": [],
   "source": []
  }
 ],
 "metadata": {
  "kernelspec": {
   "display_name": "Python 3 (ipykernel)",
   "language": "python",
   "name": "python3"
  },
  "language_info": {
   "codemirror_mode": {
    "name": "ipython",
    "version": 3
   },
   "file_extension": ".py",
   "mimetype": "text/x-python",
   "name": "python",
   "nbconvert_exporter": "python",
   "pygments_lexer": "ipython3",
   "version": "3.9.17"
  }
 },
 "nbformat": 4,
 "nbformat_minor": 5
}
