{
 "cells": [
  {
   "cell_type": "code",
   "execution_count": 1,
   "id": "d0617fe3",
   "metadata": {},
   "outputs": [],
   "source": [
    "# Tree\n",
    "\n",
    "#Box-and-Pointer Notation\n",
    "odds = [3,5,7,9,11]\n",
    "\n",
    "a = sum(odds,1)\n",
    "# a = 36\n",
    "\n",
    "b = sum([odds],[13])\n",
    "# b = [3,5,7,9,11,13]\n",
    "\n",
    "c = max(range(-5,5)) \n",
    "#c = 4\n",
    " \n",
    "d = max(range(-5,5),key=lambda x: x**2)\n",
    "#d = -5\n",
    "\n",
    "e = all([1,1,1,1])\n",
    "# e = True\n",
    "\n",
    "f = all([1,1,1,0])\n",
    "# f = False\n",
    "\n",
    "def tree(label,branches=[]):\n",
    "    for branch in branches:\n",
    "        assert is_tree(branch),'branches must be trees'\n",
    "    return [label]+list(branches)\n",
    "\n",
    "def label(tree):\n",
    "    return tree[0]\n",
    "\n",
    "def branches(tree):\n",
    "    return tree[1:]\n",
    "\n",
    "def is_tree(tree):\n",
    "    if type(tree) != list or len(tree) < 1:\n",
    "        return False\n",
    "    for branch in branches(tree):\n",
    "        if not is_tree(branch):\n",
    "            return False\n",
    "    return True\n",
    "\n",
    "def is_Leaf(tree):\n",
    "    return not branches(tree)\n",
    "\n",
    "def fib_tree(n):\n",
    "    if n <= 1:\n",
    "        return tree(n)\n",
    "    else:\n",
    "        left, right = fib_tree(n-2),fib_tree(n-1)\n",
    "        return tree(label(left)+label(right),[left,right])\n",
    "\n",
    "def count_leaves(tree):\n",
    "    if is_Leaf(tree):\n",
    "       return 1\n",
    "    else:\n",
    "        branch_count = [count_leaves(b) for b in branches(tree)]\n",
    "        return sum(branch_count)\n",
    "    \n",
    "def print_tree(tree,indention=0):\n",
    "    print(' '*indention + str(label(tree)))\n",
    "    for b in branches(tree):\n",
    "        print_tree(b,indention+1)\n",
    "\n",
    "\n",
    "\n"
   ]
  },
  {
   "cell_type": "code",
   "execution_count": 2,
   "id": "61002481",
   "metadata": {},
   "outputs": [],
   "source": [
    "a = [3,4,5]"
   ]
  },
  {
   "cell_type": "code",
   "execution_count": 3,
   "id": "cfce922f",
   "metadata": {},
   "outputs": [],
   "source": [
    "b = [7,8,9]"
   ]
  },
  {
   "cell_type": "code",
   "execution_count": 4,
   "id": "2c2b8ca0",
   "metadata": {},
   "outputs": [
    {
     "data": {
      "text/plain": [
       "<zip at 0x7f95c9a86640>"
      ]
     },
     "execution_count": 4,
     "metadata": {},
     "output_type": "execute_result"
    }
   ],
   "source": [
    "zip(a,b)"
   ]
  },
  {
   "cell_type": "code",
   "execution_count": 7,
   "id": "2ebcbc7b",
   "metadata": {},
   "outputs": [
    {
     "name": "stdout",
     "output_type": "stream",
     "text": [
      "3 7\n",
      "4 8\n",
      "5 9\n"
     ]
    }
   ],
   "source": [
    "for x,y in zip(a,b):\n",
    "    print(x,y)"
   ]
  },
  {
   "cell_type": "code",
   "execution_count": 8,
   "id": "64ccd414",
   "metadata": {},
   "outputs": [],
   "source": [
    "def tree(label, branches=[]):\n",
    "    \"\"\"Construct a tree with the given label value and a list of branches.\"\"\"\n",
    "    if change_abstraction.changed:\n",
    "        for branch in branches:\n",
    "            assert is_tree(branch), 'branches must be trees'\n",
    "        return {'label': label, 'branches': list(branches)}\n",
    "    else:\n",
    "        for branch in branches:\n",
    "            assert is_tree(branch), 'branches must be trees'\n",
    "        return [label] + list(branches)\n",
    "\n",
    "def label(tree):\n",
    "    \"\"\"Return the label value of a tree.\"\"\"\n",
    "    if change_abstraction.changed:\n",
    "        return tree['label']\n",
    "    else:\n",
    "        return tree[0]\n",
    "\n",
    "def branches(tree):\n",
    "    \"\"\"Return the list of branches of the given tree.\"\"\"\n",
    "    if change_abstraction.changed:\n",
    "        return tree['branches']\n",
    "    else:\n",
    "        return tree[1:]\n",
    "\n",
    "def is_tree(tree):\n",
    "    \"\"\"Returns True if the given tree is a tree, and False otherwise.\"\"\"\n",
    "    if change_abstraction.changed:\n",
    "        if type(tree) != dict or len(tree) != 2:\n",
    "            return False\n",
    "        for branch in branches(tree):\n",
    "            if not is_tree(branch):\n",
    "                return False\n",
    "        return True\n",
    "    else:\n",
    "        if type(tree) != list or len(tree) < 1:\n",
    "            return False\n",
    "        for branch in branches(tree):\n",
    "            if not is_tree(branch):\n",
    "                return False\n",
    "        return True\n",
    "\n",
    "def is_leaf(tree):\n",
    "    \"\"\"Returns True if the given tree's list of branches is empty, and False\n",
    "    otherwise.\n",
    "    \"\"\"\n",
    "    return not branches(tree)\n",
    "\n",
    "def change_abstraction(change):\n",
    "    change_abstraction.changed = change\n",
    "\n",
    "change_abstraction.changed = False\n",
    "\n",
    "\n",
    "def print_tree(t, indent=0):\n",
    "    \"\"\"Print a representation of this tree in which each node is\n",
    "    indented by two spaces times its depth from the root.\n",
    "\n",
    "    >>> print_tree(tree(1))\n",
    "    1\n",
    "    >>> print_tree(tree(1, [tree(2)]))\n",
    "    1\n",
    "      2\n",
    "    >>> numbers = tree(1, [tree(2), tree(3, [tree(4), tree(5)]), tree(6, [tree(7)])])\n",
    "    >>> print_tree(numbers)\n",
    "    1\n",
    "      2\n",
    "      3\n",
    "        4\n",
    "        5\n",
    "      6\n",
    "        7\n",
    "    \"\"\"\n",
    "    print('  ' * indent + str(label(t)))\n",
    "    for b in branches(t):\n",
    "        print_tree(b, indent + 1)\n",
    "\n",
    "def copy_tree(t):\n",
    "    \"\"\"Returns a copy of t. Only for testing purposes.\n",
    "\n",
    "    >>> t = tree(5)\n",
    "    >>> copy = copy_tree(t)\n",
    "    >>> t = tree(6)\n",
    "    >>> print_tree(copy)\n",
    "    5\n",
    "    \"\"\"\n",
    "    return tree(label(t), [copy_tree(b) for b in branches(t)])\n",
    "\n"
   ]
  },
  {
   "cell_type": "code",
   "execution_count": 9,
   "id": "b6451ab5",
   "metadata": {},
   "outputs": [],
   "source": [
    "t1 = tree(1)"
   ]
  },
  {
   "cell_type": "code",
   "execution_count": 10,
   "id": "9f955f87",
   "metadata": {},
   "outputs": [
    {
     "data": {
      "text/plain": [
       "[1]"
      ]
     },
     "execution_count": 10,
     "metadata": {},
     "output_type": "execute_result"
    }
   ],
   "source": [
    "t1"
   ]
  },
  {
   "cell_type": "code",
   "execution_count": 11,
   "id": "43caf388",
   "metadata": {},
   "outputs": [
    {
     "data": {
      "text/plain": [
       "True"
      ]
     },
     "execution_count": 11,
     "metadata": {},
     "output_type": "execute_result"
    }
   ],
   "source": [
    "is_tree(t1)"
   ]
  },
  {
   "cell_type": "code",
   "execution_count": 63,
   "id": "86cfca49",
   "metadata": {},
   "outputs": [],
   "source": [
    "t2 = tree(2,[tree(3,[tree(5)]),tree(4),tree(5)])"
   ]
  },
  {
   "cell_type": "code",
   "execution_count": 64,
   "id": "f0e91231",
   "metadata": {},
   "outputs": [
    {
     "name": "stdout",
     "output_type": "stream",
     "text": [
      "2\n",
      "  3\n",
      "    5\n",
      "  4\n",
      "  5\n"
     ]
    }
   ],
   "source": [
    "print_tree(t2)"
   ]
  },
  {
   "cell_type": "code",
   "execution_count": 19,
   "id": "cc106c36",
   "metadata": {},
   "outputs": [],
   "source": [
    "import itertools"
   ]
  },
  {
   "cell_type": "code",
   "execution_count": 65,
   "id": "ae044782",
   "metadata": {},
   "outputs": [
    {
     "name": "stdout",
     "output_type": "stream",
     "text": [
      "1 2\n",
      "[0] [3, [5]]\n",
      "[0] [4]\n",
      "[0] [5]\n"
     ]
    }
   ],
   "source": [
    "for x,y in itertools.zip_longest(t1,t2,fillvalue=[0]):\n",
    "    print(x,y)"
   ]
  },
  {
   "cell_type": "code",
   "execution_count": 51,
   "id": "eb5a6ff1",
   "metadata": {},
   "outputs": [
    {
     "name": "stdout",
     "output_type": "stream",
     "text": [
      "True\n"
     ]
    }
   ],
   "source": [
    "if branches(t2):\n",
    "    print('True')\n",
    "else:\n",
    "    print('False')"
   ]
  },
  {
   "cell_type": "code",
   "execution_count": 85,
   "id": "1b8c178f",
   "metadata": {},
   "outputs": [],
   "source": [
    "def add_trees(t1,t2):\n",
    "    if not (branches(t1) or branches(t2)):\n",
    "        return tree(sum([label(t1),label(t2)]))\n",
    "    else:\n",
    "        bs = [add_trees(t1_bs,t2_bs) for t1_bs,t2_bs in itertools.zip_longest(branches(t1),branches(t2),fillvalue=[0])]\n",
    "        return tree(sum([label(t1),label(t2)]),bs)\n",
    "    #return tree(label(t1)+lebel(t2),[])"
   ]
  },
  {
   "cell_type": "code",
   "execution_count": 86,
   "id": "2258c414",
   "metadata": {},
   "outputs": [
    {
     "data": {
      "text/plain": [
       "[3, [3, [5]], [4], [5]]"
      ]
     },
     "execution_count": 86,
     "metadata": {},
     "output_type": "execute_result"
    }
   ],
   "source": [
    "add_trees(t1,t2)"
   ]
  },
  {
   "cell_type": "code",
   "execution_count": 82,
   "id": "d370452f",
   "metadata": {},
   "outputs": [
    {
     "data": {
      "text/plain": [
       "[[0, [0]], [0], [0]]"
      ]
     },
     "execution_count": 82,
     "metadata": {},
     "output_type": "execute_result"
    }
   ],
   "source": [
    "[add_trees(t1_bs,t2_bs) for t1_bs,t2_bs in itertools.zip_longest(branches(t1),branches(t2),fillvalue=[0])]"
   ]
  },
  {
   "cell_type": "code",
   "execution_count": 73,
   "id": "3c762009",
   "metadata": {
    "scrolled": true
   },
   "outputs": [
    {
     "data": {
      "text/plain": [
       "[None, [0], [0]]"
      ]
     },
     "execution_count": 73,
     "metadata": {},
     "output_type": "execute_result"
    }
   ],
   "source": [
    "[add_trees(t1_bs,t2_bs) for t1_bs,t2_bs in itertools.zip_longest(branches(t1),branches(t2),fillvalue=[0])]"
   ]
  },
  {
   "cell_type": "code",
   "execution_count": 69,
   "id": "4c1ff190",
   "metadata": {},
   "outputs": [
    {
     "name": "stdout",
     "output_type": "stream",
     "text": [
      "1\n"
     ]
    }
   ],
   "source": [
    "print_tree(t1)"
   ]
  },
  {
   "cell_type": "code",
   "execution_count": 70,
   "id": "1e359ef9",
   "metadata": {},
   "outputs": [
    {
     "name": "stdout",
     "output_type": "stream",
     "text": [
      "2\n",
      "  3\n",
      "    5\n",
      "  4\n",
      "  5\n"
     ]
    }
   ],
   "source": [
    "print_tree(t2)"
   ]
  },
  {
   "cell_type": "code",
   "execution_count": 89,
   "id": "270094a2",
   "metadata": {},
   "outputs": [],
   "source": [
    "numbers = tree(1,\n",
    "           [tree(2,\n",
    "                [tree(3),\n",
    "                 tree(4)]),\n",
    "             tree(5,\n",
    "                  [tree(6,\n",
    "                        [tree(7)]),\n",
    "                   tree(8)])])"
   ]
  },
  {
   "cell_type": "code",
   "execution_count": 91,
   "id": "5556a390",
   "metadata": {},
   "outputs": [
    {
     "name": "stdout",
     "output_type": "stream",
     "text": [
      "1\n",
      "  2\n",
      "    3\n",
      "    4\n",
      "  5\n",
      "    6\n",
      "      7\n",
      "    8\n"
     ]
    }
   ],
   "source": [
    "print_tree(numbers)"
   ]
  },
  {
   "cell_type": "code",
   "execution_count": 93,
   "id": "f8b692b0",
   "metadata": {},
   "outputs": [
    {
     "name": "stdout",
     "output_type": "stream",
     "text": [
      "2\n",
      "  4\n",
      "    6\n",
      "    8\n",
      "  10\n",
      "    12\n",
      "      14\n",
      "    16\n"
     ]
    }
   ],
   "source": [
    "print_tree(add_trees(numbers,numbers))"
   ]
  },
  {
   "cell_type": "code",
   "execution_count": 94,
   "id": "3f851ed3",
   "metadata": {},
   "outputs": [
    {
     "name": "stdout",
     "output_type": "stream",
     "text": [
      "5\n",
      "  4\n",
      "  5\n"
     ]
    }
   ],
   "source": [
    "print_tree(add_trees(tree(2), tree(3, [tree(4), tree(5)])))"
   ]
  },
  {
   "cell_type": "code",
   "execution_count": null,
   "id": "f0cdd011",
   "metadata": {},
   "outputs": [],
   "source": []
  }
 ],
 "metadata": {
  "kernelspec": {
   "display_name": "Python 3 (ipykernel)",
   "language": "python",
   "name": "python3"
  },
  "language_info": {
   "codemirror_mode": {
    "name": "ipython",
    "version": 3
   },
   "file_extension": ".py",
   "mimetype": "text/x-python",
   "name": "python",
   "nbconvert_exporter": "python",
   "pygments_lexer": "ipython3",
   "version": "3.9.17"
  }
 },
 "nbformat": 4,
 "nbformat_minor": 5
}
