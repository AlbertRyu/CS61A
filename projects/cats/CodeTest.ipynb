{
 "cells": [
  {
   "cell_type": "code",
   "execution_count": 1,
   "id": "2426b2e6",
   "metadata": {},
   "outputs": [],
   "source": [
    "from cats import shifty_shifts, autocorrect"
   ]
  },
  {
   "cell_type": "code",
   "execution_count": 2,
   "id": "e5a64f5b",
   "metadata": {},
   "outputs": [],
   "source": [
    "import tests.construct_check as test"
   ]
  },
  {
   "cell_type": "code",
   "execution_count": 3,
   "id": "b8400df7",
   "metadata": {},
   "outputs": [],
   "source": [
    "# ***Check that the recursion stops when the limit is reached***"
   ]
  },
  {
   "cell_type": "code",
   "execution_count": 4,
   "id": "a9040f5f",
   "metadata": {},
   "outputs": [],
   "source": [
    "import trace, io"
   ]
  },
  {
   "cell_type": "code",
   "execution_count": 5,
   "id": "c35fa4e4",
   "metadata": {},
   "outputs": [],
   "source": [
    "from contextlib import redirect_stdout"
   ]
  },
  {
   "cell_type": "code",
   "execution_count": 6,
   "id": "06fe3b0c",
   "metadata": {},
   "outputs": [],
   "source": [
    "with io.StringIO() as buf, redirect_stdout(buf):\n",
    "    trace.Trace(trace=True).runfunc(shifty_shifts, \"someaweqwertyuio\", \"awesomeasdfghjkl\", 3)\n",
    "    output = buf.getvalue()"
   ]
  },
  {
   "cell_type": "code",
   "execution_count": 7,
   "id": "557adb78",
   "metadata": {},
   "outputs": [
    {
     "data": {
      "text/plain": [
       "5"
      ]
     },
     "execution_count": 7,
     "metadata": {},
     "output_type": "execute_result"
    }
   ],
   "source": [
    "len([line for line in output.split('\\n') if 'funcname' in line])"
   ]
  },
  {
   "cell_type": "code",
   "execution_count": 8,
   "id": "f11cffec",
   "metadata": {},
   "outputs": [
    {
     "data": {
      "text/plain": [
       "[' --- modulename: cats, funcname: shifty_shifts',\n",
       " ' --- modulename: cats, funcname: shifty_shifts',\n",
       " ' --- modulename: cats, funcname: shifty_shifts',\n",
       " ' --- modulename: cats, funcname: shifty_shifts',\n",
       " ' --- modulename: cats, funcname: shifty_shifts']"
      ]
     },
     "execution_count": 8,
     "metadata": {},
     "output_type": "execute_result"
    }
   ],
   "source": [
    "[line for line in output.split('\\n') if 'funcname' in line]"
   ]
  },
  {
   "cell_type": "code",
   "execution_count": 9,
   "id": "bec52fb4",
   "metadata": {},
   "outputs": [
    {
     "data": {
      "text/plain": [
       "4"
      ]
     },
     "execution_count": 9,
     "metadata": {},
     "output_type": "execute_result"
    }
   ],
   "source": [
    "shifty_shifts(\"someaweqwertyuio\", \"awesomeasdfghjkl\", 3)"
   ]
  },
  {
   "cell_type": "code",
   "execution_count": 10,
   "id": "648f1044",
   "metadata": {},
   "outputs": [
    {
     "data": {
      "text/plain": [
       "0"
      ]
     },
     "execution_count": 10,
     "metadata": {},
     "output_type": "execute_result"
    }
   ],
   "source": [
    "sum([shifty_shifts('pc', 'pc', k) > k for k in range(2)])"
   ]
  },
  {
   "cell_type": "code",
   "execution_count": 11,
   "id": "b09e0320",
   "metadata": {},
   "outputs": [
    {
     "data": {
      "text/plain": [
       "[False, False]"
      ]
     },
     "execution_count": 11,
     "metadata": {},
     "output_type": "execute_result"
    }
   ],
   "source": [
    "[shifty_shifts('pc', 'pc', k) > k for k in range(2)]"
   ]
  },
  {
   "cell_type": "code",
   "execution_count": 12,
   "id": "45fe88d5",
   "metadata": {},
   "outputs": [
    {
     "data": {
      "text/plain": [
       "False"
      ]
     },
     "execution_count": 12,
     "metadata": {},
     "output_type": "execute_result"
    }
   ],
   "source": [
    "shifty_shifts('pc', 'pc', 0) > 0"
   ]
  },
  {
   "cell_type": "code",
   "execution_count": 13,
   "id": "4f6ecf13",
   "metadata": {},
   "outputs": [
    {
     "data": {
      "text/plain": [
       "False"
      ]
     },
     "execution_count": 13,
     "metadata": {},
     "output_type": "execute_result"
    }
   ],
   "source": [
    "shifty_shifts('pc', 'pc', 1) > 1"
   ]
  },
  {
   "cell_type": "code",
   "execution_count": 14,
   "id": "80b54f77",
   "metadata": {},
   "outputs": [
    {
     "data": {
      "text/plain": [
       "5"
      ]
     },
     "execution_count": 14,
     "metadata": {},
     "output_type": "execute_result"
    }
   ],
   "source": [
    "shifty_shifts(\"awful\", \"awesome\", 3)"
   ]
  },
  {
   "cell_type": "code",
   "execution_count": 15,
   "id": "cc5b86ef",
   "metadata": {},
   "outputs": [
    {
     "data": {
      "text/plain": [
       "4"
      ]
     },
     "execution_count": 15,
     "metadata": {},
     "output_type": "execute_result"
    }
   ],
   "source": [
    "shifty_shifts('cats','scat',3)"
   ]
  },
  {
   "cell_type": "code",
   "execution_count": 16,
   "id": "ff47c0f5",
   "metadata": {},
   "outputs": [],
   "source": [
    "print_progress = lambda d: print('ID:', d['id'], 'Progress:', d['progress'])"
   ]
  },
  {
   "cell_type": "code",
   "execution_count": 17,
   "id": "b3dbebd7",
   "metadata": {},
   "outputs": [
    {
     "name": "stdout",
     "output_type": "stream",
     "text": [
      "ID: 1 Progress: 0.6\n"
     ]
    }
   ],
   "source": [
    "print_progress({'id': 1, 'progress': 0.6})"
   ]
  },
  {
   "cell_type": "code",
   "execution_count": null,
   "id": "0bafa40e",
   "metadata": {},
   "outputs": [],
   "source": []
  }
 ],
 "metadata": {
  "kernelspec": {
   "display_name": "Python 3 (ipykernel)",
   "language": "python",
   "name": "python3"
  },
  "language_info": {
   "codemirror_mode": {
    "name": "ipython",
    "version": 3
   },
   "file_extension": ".py",
   "mimetype": "text/x-python",
   "name": "python",
   "nbconvert_exporter": "python",
   "pygments_lexer": "ipython3",
   "version": "3.9.17"
  }
 },
 "nbformat": 4,
 "nbformat_minor": 5
}
