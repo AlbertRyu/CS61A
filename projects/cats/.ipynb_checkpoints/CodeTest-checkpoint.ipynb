{
 "cells": [
  {
   "cell_type": "code",
   "execution_count": 13,
   "id": "2426b2e6",
   "metadata": {},
   "outputs": [],
   "source": [
    "from cats import shifty_shifts, autocorrect"
   ]
  },
  {
   "cell_type": "code",
   "execution_count": 14,
   "id": "e5a64f5b",
   "metadata": {},
   "outputs": [],
   "source": [
    "import tests.construct_check as test"
   ]
  },
  {
   "cell_type": "code",
   "execution_count": 15,
   "id": "b8400df7",
   "metadata": {},
   "outputs": [],
   "source": [
    "# ***Check that the recursion stops when the limit is reached***"
   ]
  },
  {
   "cell_type": "code",
   "execution_count": 16,
   "id": "a9040f5f",
   "metadata": {},
   "outputs": [],
   "source": [
    "import trace, io"
   ]
  },
  {
   "cell_type": "code",
   "execution_count": 17,
   "id": "c35fa4e4",
   "metadata": {},
   "outputs": [],
   "source": [
    "from contextlib import redirect_stdout"
   ]
  },
  {
   "cell_type": "code",
   "execution_count": 18,
   "id": "06fe3b0c",
   "metadata": {},
   "outputs": [],
   "source": [
    "with io.StringIO() as buf, redirect_stdout(buf):\n",
    "    trace.Trace(trace=True).runfunc(shifty_shifts, \"someaweqwertyuio\", \"awesomeasdfghjkl\", 3)\n",
    "    output = buf.getvalue()"
   ]
  },
  {
   "cell_type": "code",
   "execution_count": 19,
   "id": "557adb78",
   "metadata": {},
   "outputs": [
    {
     "data": {
      "text/plain": [
       "17"
      ]
     },
     "execution_count": 19,
     "metadata": {},
     "output_type": "execute_result"
    }
   ],
   "source": [
    "len([line for line in output.split('\\n') if 'funcname' in line])"
   ]
  },
  {
   "cell_type": "code",
   "execution_count": 22,
   "id": "f11cffec",
   "metadata": {},
   "outputs": [
    {
     "data": {
      "text/plain": [
       "[' --- modulename: cats, funcname: shifty_shifts',\n",
       " ' --- modulename: cats, funcname: shifty_shifts',\n",
       " ' --- modulename: cats, funcname: shifty_shifts',\n",
       " ' --- modulename: cats, funcname: shifty_shifts',\n",
       " ' --- modulename: cats, funcname: shifty_shifts',\n",
       " ' --- modulename: cats, funcname: shifty_shifts',\n",
       " ' --- modulename: cats, funcname: shifty_shifts',\n",
       " ' --- modulename: cats, funcname: shifty_shifts',\n",
       " ' --- modulename: cats, funcname: shifty_shifts',\n",
       " ' --- modulename: cats, funcname: shifty_shifts',\n",
       " ' --- modulename: cats, funcname: shifty_shifts',\n",
       " ' --- modulename: cats, funcname: shifty_shifts',\n",
       " ' --- modulename: cats, funcname: shifty_shifts',\n",
       " ' --- modulename: cats, funcname: shifty_shifts',\n",
       " ' --- modulename: cats, funcname: shifty_shifts',\n",
       " ' --- modulename: cats, funcname: shifty_shifts',\n",
       " ' --- modulename: cats, funcname: shifty_shifts']"
      ]
     },
     "execution_count": 22,
     "metadata": {},
     "output_type": "execute_result"
    }
   ],
   "source": [
    "[line for line in output.split('\\n') if 'funcname' in line]"
   ]
  },
  {
   "cell_type": "code",
   "execution_count": 23,
   "id": "bec52fb4",
   "metadata": {},
   "outputs": [
    {
     "data": {
      "text/plain": [
       "15"
      ]
     },
     "execution_count": 23,
     "metadata": {},
     "output_type": "execute_result"
    }
   ],
   "source": [
    "shifty_shifts(\"someaweqwertyuio\", \"awesomeasdfghjkl\", 3)"
   ]
  },
  {
   "cell_type": "code",
   "execution_count": 25,
   "id": "648f1044",
   "metadata": {},
   "outputs": [
    {
     "data": {
      "text/plain": [
       "0"
      ]
     },
     "execution_count": 25,
     "metadata": {},
     "output_type": "execute_result"
    }
   ],
   "source": [
    "sum([shifty_shifts('pc', 'pc', k) > k for k in range(2)])"
   ]
  },
  {
   "cell_type": "code",
   "execution_count": null,
   "id": "b09e0320",
   "metadata": {},
   "outputs": [],
   "source": []
  }
 ],
 "metadata": {
  "kernelspec": {
   "display_name": "Python 3 (ipykernel)",
   "language": "python",
   "name": "python3"
  },
  "language_info": {
   "codemirror_mode": {
    "name": "ipython",
    "version": 3
   },
   "file_extension": ".py",
   "mimetype": "text/x-python",
   "name": "python",
   "nbconvert_exporter": "python",
   "pygments_lexer": "ipython3",
   "version": "3.9.17"
  }
 },
 "nbformat": 4,
 "nbformat_minor": 5
}
